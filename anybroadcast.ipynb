{
 "cells": [
  {
   "cell_type": "code",
   "execution_count": 1,
   "metadata": {
    "collapsed": true
   },
   "outputs": [],
   "source": [
    "import logging\n",
    "logging.basicConfig(filename='./_sshwalker_.log',level=logging.ERROR,\n",
    "                    format='%(asctime)s %(levelname)s %(name)s %(message)s')\n",
    "logger = logging.getLogger(__name__)\n",
    "\n",
    "import warnings\n",
    "warnings.filterwarnings('ignore')\n",
    "\n",
    "import os\n",
    "import sys"
   ]
  },
  {
   "cell_type": "code",
   "execution_count": 2,
   "metadata": {
    "collapsed": true
   },
   "outputs": [],
   "source": [
    "curruser = os.environ.get('USER')\n",
    "\n",
    "sys.path.insert(0, './src')\n",
    "sys.path.insert(0, '/opt/workspace/{user}/notebooks/support_library/'.format(user=curruser)) \n",
    "sys.path.insert(0, '/opt/workspace/{user}/libs/python3.5/site-packages/'.format(user=curruser))\n",
    "# sys.path.insert(0, '/opt/workspace/{user}/notebooks/labdata/lib/'.format(user=curruser))"
   ]
  },
  {
   "cell_type": "code",
   "execution_count": 3,
   "metadata": {
    "collapsed": true,
    "scrolled": true
   },
   "outputs": [],
   "source": [
    "# from spark_connector import SparkConnector\n",
    "# from sparkdb_loader import spark\n",
    "# from connector import OracleDB\n",
    "# import pyspark\n",
    "# from pyspark import SparkContext, SparkConf, HiveContext\n",
    "# from pyspark.sql import functions as f\n",
    "# from pyspark.sql.window import Window\n",
    "# from pyspark.sql.types import *\n",
    "# from pyspark.sql.dataframe import DataFrame\n",
    "\n",
    "# import loader as load\n",
    "from pathlib import Path\n",
    "import time\n",
    "# from datetime import datetime\n",
    "# from dateutil.relativedelta import relativedelta\n",
    "\n",
    "from sshloader import Ssh\n",
    "from time import sleep\n",
    "from tqdm import tqdm\n",
    "import getpass"
   ]
  },
  {
   "cell_type": "code",
   "execution_count": 4,
   "metadata": {},
   "outputs": [
    {
     "name": "stdout",
     "output_type": "stream",
     "text": [
      "········\n"
     ]
    }
   ],
   "source": [
    "# specify your username and password:\n",
    "__username = 'ektov1-av_ca-sbrf-ru'\n",
    "__pass     = getpass.getpass()\n",
    "jupyterPass = 'myjupyter'\n",
    "jupyterPort ='8100'"
   ]
  },
  {
   "cell_type": "code",
   "execution_count": 11,
   "metadata": {},
   "outputs": [
    {
     "name": "stderr",
     "output_type": "stream",
     "text": [
      "\r",
      "  0%|          | 0/3 [00:00<?, ?it/s]"
     ]
    },
    {
     "name": "stdout",
     "output_type": "stream",
     "text": [
      "pklis-chd001986.labiac.df.sbrf.ru\n",
      "<paramiko.Channel 0 (open) window=2097143 -> <paramiko.Transport at 0x102e92b0 (cipher aes128-ctr, 128 bits) (active; 1 open channel(s))>>\n"
     ]
    },
    {
     "name": "stderr",
     "output_type": "stream",
     "text": [
      "\r",
      " 33%|███▎      | 1/3 [00:01<00:02,  1.32s/it]"
     ]
    },
    {
     "name": "stdout",
     "output_type": "stream",
     "text": [
      "\n",
      "pklis-chd002207.labiac.df.sbrf.ru\n",
      "<paramiko.Channel 0 (open) window=2097143 -> <paramiko.Transport at 0x102f19e8 (cipher aes128-ctr, 128 bits) (active; 1 open channel(s))>>\n"
     ]
    },
    {
     "name": "stderr",
     "output_type": "stream",
     "text": [
      "\r",
      " 67%|██████▋   | 2/3 [00:04<00:02,  2.03s/it]"
     ]
    },
    {
     "name": "stdout",
     "output_type": "stream",
     "text": [
      "kinit: Preauthentication failed while getting initial credentials\n",
      "\n",
      "pklis-chd000218.labiac.df.sbrf.ru\n",
      "<paramiko.Channel 0 (open) window=2097143 -> <paramiko.Transport at 0x102ff0f0 (cipher aes128-ctr, 128 bits) (active; 1 open channel(s))>>\n"
     ]
    },
    {
     "name": "stderr",
     "output_type": "stream",
     "text": [
      "100%|██████████| 3/3 [00:06<00:00,  2.18s/it]"
     ]
    },
    {
     "name": "stdout",
     "output_type": "stream",
     "text": [
      "kinit: Preauthentication failed while getting initial credentials\n",
      "\n"
     ]
    },
    {
     "name": "stderr",
     "output_type": "stream",
     "text": [
      "\n"
     ]
    }
   ],
   "source": [
    "for chdNode in tqdm(chdNodesList):\n",
    "    print(chdNode)\n",
    "    logger.error('working with: {}'.format(chdNode))\n",
    "    _ssh = Ssh(username=__username, \n",
    "               password=__pass, \n",
    "               host=chdNode,\n",
    "               verbosity=1)\n",
    "    _ssh.setup()  \n",
    "\n",
    "    # source .bash_profile\n",
    "    bash_profile  = '.bash_profile'\n",
    "    stdin,stdout,stderr=_ssh.ssh.exec_command('cd /home/{username}; source {bash_profile}; echo \"!Ektov_Anton33!\" > pass/userpswrd'.format(bash_profile=bash_profile,\n",
    "                                                                                                  username=__username))\n",
    "    outlines=stderr.readlines()  \n",
    "    resp=''.join(outlines)\n",
    "    print(resp)      "
   ]
  },
  {
   "cell_type": "markdown",
   "metadata": {},
   "source": [
    "## Update pass for AutoKiller"
   ]
  },
  {
   "cell_type": "code",
   "execution_count": 5,
   "metadata": {},
   "outputs": [
    {
     "data": {
      "text/plain": [
       "['pklis-chd001986.labiac.df.sbrf.ru',\n",
       " 'pklis-chd002207.labiac.df.sbrf.ru',\n",
       " 'pklis-chd000218.labiac.df.sbrf.ru']"
      ]
     },
     "execution_count": 5,
     "metadata": {},
     "output_type": "execute_result"
    }
   ],
   "source": [
    "chdNodesList = [\"pklis-chd00{}.labiac.df.sbrf.ru\".format(i) for i in ('1986','2207','0218')]\n",
    "chdNodesList"
   ]
  },
  {
   "cell_type": "code",
   "execution_count": 6,
   "metadata": {},
   "outputs": [
    {
     "name": "stderr",
     "output_type": "stream",
     "text": [
      "\r",
      "  0%|          | 0/3 [00:00<?, ?it/s]"
     ]
    },
    {
     "name": "stdout",
     "output_type": "stream",
     "text": [
      "pklis-chd001986.labiac.df.sbrf.ru\n"
     ]
    },
    {
     "name": "stderr",
     "output_type": "stream",
     "text": [
      "\r",
      " 33%|███▎      | 1/3 [00:01<00:03,  1.99s/it]"
     ]
    },
    {
     "name": "stdout",
     "output_type": "stream",
     "text": [
      "<paramiko.Channel 0 (open) window=2097143 -> <paramiko.Transport at 0xd05f7be0 (cipher aes128-ctr, 128 bits) (active; 1 open channel(s))>>\n",
      "\n",
      "pklis-chd002207.labiac.df.sbrf.ru\n"
     ]
    },
    {
     "name": "stderr",
     "output_type": "stream",
     "text": [
      "\r",
      " 67%|██████▋   | 2/3 [00:03<00:01,  1.84s/it]"
     ]
    },
    {
     "name": "stdout",
     "output_type": "stream",
     "text": [
      "<paramiko.Channel 0 (open) window=2097143 -> <paramiko.Transport at 0xd0185908 (cipher aes128-ctr, 128 bits) (active; 1 open channel(s))>>\n",
      "\n",
      "pklis-chd000218.labiac.df.sbrf.ru\n"
     ]
    },
    {
     "name": "stderr",
     "output_type": "stream",
     "text": [
      "100%|██████████| 3/3 [00:04<00:00,  1.65s/it]"
     ]
    },
    {
     "name": "stdout",
     "output_type": "stream",
     "text": [
      "<paramiko.Channel 0 (open) window=2097143 -> <paramiko.Transport at 0xd01945f8 (cipher aes128-ctr, 128 bits) (active; 1 open channel(s))>>\n",
      "\n"
     ]
    },
    {
     "name": "stderr",
     "output_type": "stream",
     "text": [
      "\n"
     ]
    }
   ],
   "source": [
    "for chdNode in tqdm(chdNodesList):\n",
    "    print(chdNode)\n",
    "    logger.error('working with: {}'.format(chdNode))\n",
    "    _ssh = Ssh(username=__username, \n",
    "               password=__pass, \n",
    "               host=chdNode,\n",
    "               verbosity=1)\n",
    "    _ssh.setup()  \n",
    "    \n",
    "#     libzip  = '.bash_profile'\n",
    "#     remotepath = Path('./').as_posix()\n",
    "#     localpath  = Path(os.getcwd()).as_posix()\n",
    "#     remdir = ''\n",
    "#     __dir = Path('./').as_posix()\n",
    "#     _ssh.putFiles(localpath, remotepath, libzip, destFolderName=remdir)\n",
    "\n",
    "    # source .bash_profile\n",
    "#     bash_profile  = '.bash_profile'\n",
    "    stdin,stdout,stderr=_ssh.ssh.exec_command('cd /home/{username}; echo {newpass} > ~/pass/userpswrd'.format(newpass=__pass,\n",
    "                                                                                                              username=__username))\n",
    "    outlines=stdout.readlines() \n",
    "\n",
    "    outlines=stderr.readlines()  \n",
    "    resp=''.join(outlines)\n",
    "    print(resp)   "
   ]
  },
  {
   "cell_type": "markdown",
   "metadata": {},
   "source": [
    "### Preparation step: Zip supplimentary libraries and required scripts"
   ]
  },
  {
   "cell_type": "code",
   "execution_count": 5,
   "metadata": {},
   "outputs": [
    {
     "data": {
      "text/plain": [
       "0"
      ]
     },
     "execution_count": 5,
     "metadata": {},
     "output_type": "execute_result"
    }
   ],
   "source": [
    "os.system('cd ./copyfiles/; zip -r copyfiles.zip * .[^.]*; mv copyfiles.zip ./../')"
   ]
  },
  {
   "cell_type": "markdown",
   "metadata": {},
   "source": [
    "## Start packages broadcasting process"
   ]
  },
  {
   "cell_type": "code",
   "execution_count": 6,
   "metadata": {
    "collapsed": true
   },
   "outputs": [],
   "source": [
    "chdNodesList = [\"pklis-chd00{}.labiac.df.sbrf.ru\".format(i) for i in range(2179,2211)]"
   ]
  },
  {
   "cell_type": "code",
   "execution_count": 7,
   "metadata": {
    "collapsed": true
   },
   "outputs": [],
   "source": [
    "# chdNodesList = \\\n",
    "# [\n",
    "# 'pklis-chd001973.labiac.df.sbrf.ru',\n",
    "# 'pklis-chd001974.labiac.df.sbrf.ru',\n",
    "# 'pklis-chd001975.labiac.df.sbrf.ru',\n",
    "# 'pklis-chd001976.labiac.df.sbrf.ru',\n",
    "# 'pklis-chd001977.labiac.df.sbrf.ru',\n",
    "# 'pklis-chd001978.labiac.df.sbrf.ru',\n",
    "# 'pklis-chd001979.labiac.df.sbrf.ru',\n",
    "# 'pklis-chd001980.labiac.df.sbrf.ru',\n",
    "# 'pklis-chd001981.labiac.df.sbrf.ru',\n",
    "# 'pklis-chd001982.labiac.df.sbrf.ru',\n",
    "# 'pklis-chd001983.labiac.df.sbrf.ru',\n",
    "# 'pklis-chd001984.labiac.df.sbrf.ru',\n",
    "# 'pklis-chd001985.labiac.df.sbrf.ru',\n",
    "# 'pklis-chd001986.labiac.df.sbrf.ru',\n",
    "# 'pklis-chd001987.labiac.df.sbrf.ru',\n",
    "# 'pklis-chd001988.labiac.df.sbrf.ru',\n",
    "# 'pklis-chd001989.labiac.df.sbrf.ru',\n",
    "# 'pklis-chd001990.labiac.df.sbrf.ru',\n",
    "# 'pklis-chd001991.labiac.df.sbrf.ru',\n",
    "# 'pklis-chd001992.labiac.df.sbrf.ru',\n",
    "# 'pklis-chd001993.labiac.df.sbrf.ru',\n",
    "# 'pklis-chd001994.labiac.df.sbrf.ru',\n",
    "# 'pklis-chd001995.labiac.df.sbrf.ru',\n",
    "# 'pklis-chd001996.labiac.df.sbrf.ru',\n",
    "# 'pklis-chd001997.labiac.df.sbrf.ru',\n",
    "# 'pklis-chd001998.labiac.df.sbrf.ru',\n",
    "# 'pklis-chd001999.labiac.df.sbrf.ru',\n",
    "# 'pklis-chd002000.labiac.df.sbrf.ru',\n",
    "# 'pklis-chd002001.labiac.df.sbrf.ru',\n",
    "# 'pklis-chd002002.labiac.df.sbrf.ru',\n",
    "# 'pklis-chd002003.labiac.df.sbrf.ru',\n",
    "# 'pklis-chd002004.labiac.df.sbrf.ru'\n",
    "# ]"
   ]
  },
  {
   "cell_type": "code",
   "execution_count": 9,
   "metadata": {
    "scrolled": false
   },
   "outputs": [
    {
     "name": "stdout",
     "output_type": "stream",
     "text": [
      "PKLIS-CHD002179.LABIAC.DF.SBRF.RU\n",
      "PKLIS-CHD002180.LABIAC.DF.SBRF.RU\n",
      "PKLIS-CHD002181.LABIAC.DF.SBRF.RU\n",
      "PKLIS-CHD002182.LABIAC.DF.SBRF.RU\n",
      "PKLIS-CHD002183.LABIAC.DF.SBRF.RU\n",
      "PKLIS-CHD002184.LABIAC.DF.SBRF.RU\n",
      "PKLIS-CHD002185.LABIAC.DF.SBRF.RU\n",
      "PKLIS-CHD002186.LABIAC.DF.SBRF.RU\n",
      "PKLIS-CHD002187.LABIAC.DF.SBRF.RU\n",
      "PKLIS-CHD002188.LABIAC.DF.SBRF.RU\n",
      "PKLIS-CHD002189.LABIAC.DF.SBRF.RU\n",
      "PKLIS-CHD002190.LABIAC.DF.SBRF.RU\n",
      "PKLIS-CHD002191.LABIAC.DF.SBRF.RU\n",
      "PKLIS-CHD002192.LABIAC.DF.SBRF.RU\n",
      "PKLIS-CHD002193.LABIAC.DF.SBRF.RU\n",
      "PKLIS-CHD002194.LABIAC.DF.SBRF.RU\n",
      "PKLIS-CHD002195.LABIAC.DF.SBRF.RU\n",
      "PKLIS-CHD002196.LABIAC.DF.SBRF.RU\n",
      "PKLIS-CHD002197.LABIAC.DF.SBRF.RU\n",
      "PKLIS-CHD002198.LABIAC.DF.SBRF.RU\n",
      "PKLIS-CHD002199.LABIAC.DF.SBRF.RU\n",
      "PKLIS-CHD002200.LABIAC.DF.SBRF.RU\n",
      "PKLIS-CHD002201.LABIAC.DF.SBRF.RU\n",
      "PKLIS-CHD002202.LABIAC.DF.SBRF.RU\n",
      "PKLIS-CHD002203.LABIAC.DF.SBRF.RU\n",
      "PKLIS-CHD002204.LABIAC.DF.SBRF.RU\n",
      "PKLIS-CHD002205.LABIAC.DF.SBRF.RU\n",
      "PKLIS-CHD002206.LABIAC.DF.SBRF.RU\n",
      "PKLIS-CHD002207.LABIAC.DF.SBRF.RU\n",
      "PKLIS-CHD002208.LABIAC.DF.SBRF.RU\n",
      "PKLIS-CHD002209.LABIAC.DF.SBRF.RU\n",
      "PKLIS-CHD002210.LABIAC.DF.SBRF.RU\n"
     ]
    }
   ],
   "source": [
    "print('\\n'.join([node.upper() for node in chdNodesList]))"
   ]
  },
  {
   "cell_type": "markdown",
   "metadata": {},
   "source": [
    "## Install pyarrow on core nodes"
   ]
  },
  {
   "cell_type": "code",
   "execution_count": null,
   "metadata": {
    "scrolled": false
   },
   "outputs": [],
   "source": [
    "for chdNode in tqdm_notebook(chdNodesList):\n",
    "    print(chdNode)\n",
    "    logger.error('working with: {}'.format(chdNode))\n",
    "    _ssh = Ssh(username=__username, \n",
    "               password=__pass, \n",
    "               host=chdNode,\n",
    "               verbosity=1)\n",
    "    _ssh.setup()  \n",
    "    \n",
    "    libzip  = '.bash_profile'\n",
    "    remotepath = Path('./').as_posix()\n",
    "    localpath  = Path(os.getcwd()).as_posix()\n",
    "    remdir = ''\n",
    "    __dir = Path('./').as_posix()\n",
    "    _ssh.putFiles(localpath, remotepath, libzip, destFolderName=remdir)\n",
    "\n",
    "    # source .bash_profile\n",
    "    bash_profile  = '.bash_profile'\n",
    "    stdin,stdout,stderr=_ssh.ssh.exec_command('cd /home/{username}; source {bash_profile}'.format(bash_profile=bash_profile,\n",
    "                                                                                                  username=__username))\n",
    "    outlines=stdout.readlines() \n",
    "\n",
    "    runstr = \"cd /home/{username}; source .bash_profile; pip35 install pyarrow \\\n",
    "                -t /home/{username}/python35-libs/lib/python3.5/site-packages\".format(username=__username)\n",
    "    stdin,stdout,stderr=_ssh.ssh.exec_command(runstr)\n",
    "    outlines=stderr.readlines()  \n",
    "    resp=''.join(outlines)\n",
    "    print(resp)    "
   ]
  },
  {
   "cell_type": "markdown",
   "metadata": {},
   "source": [
    "### Make link to user dir"
   ]
  },
  {
   "cell_type": "code",
   "execution_count": null,
   "metadata": {
    "scrolled": false
   },
   "outputs": [],
   "source": [
    "for chdNode in tqdm_notebook(chdNodesList):\n",
    "    print(chdNode)\n",
    "    try:\n",
    "        logger.error('working with: {}'.format(chdNode))\n",
    "        _ssh = Ssh(username=__username, \n",
    "                   password=__pass, \n",
    "                   host=chdNode,\n",
    "                   verbosity=1)\n",
    "        _ssh.setup() \n",
    "        \n",
    "        remdir = '/home/{}/python35-libs/lib/python3.5/'.format(__username)\n",
    "        stdin,stdout,stderr=_ssh.ssh.exec_command('cd /home/{username}; mkdir -p {cdir}'.format(cdir=remdir,\n",
    "                                                                                                    username=__username))\n",
    "        outlines=stderr.readlines()\n",
    "        \n",
    "        stdin,stdout,stderr=_ssh.ssh.exec_command('cd /home/{username}; ln -s /home/ektov1-av_ca-sbrf-ru/python35-libs/lib/python3.5/site-packages {cdir}'.format(cdir=remdir,\n",
    "                                                                                                    username=__username))\n",
    "        outlines=stderr.readlines()\n",
    "        \n",
    "        print('working with: {} has been completed'.format(chdNode))      \n",
    "\n",
    "    except:\n",
    "        print('got some unprocessed steps...')\n",
    "        pass "
   ]
  },
  {
   "cell_type": "markdown",
   "metadata": {},
   "source": [
    "## Set bit-mask to user dir"
   ]
  },
  {
   "cell_type": "code",
   "execution_count": null,
   "metadata": {
    "scrolled": true
   },
   "outputs": [
    {
     "data": {
      "application/vnd.jupyter.widget-view+json": {
       "model_id": "6a6270838c614366ac34348763868318"
      }
     },
     "metadata": {},
     "output_type": "display_data"
    },
    {
     "name": "stdout",
     "output_type": "stream",
     "text": [
      "pklis-chd001973.labiac.df.sbrf.ru\n",
      "got some unprocessed steps...\n",
      "pklis-chd001974.labiac.df.sbrf.ru\n"
     ]
    }
   ],
   "source": [
    "for chdNode in tqdm_notebook(chdNodesList):\n",
    "    print(chdNode)\n",
    "    try:\n",
    "        logger.error('working with: {}'.format(chdNode))\n",
    "        _ssh = Ssh(username=__username, \n",
    "                   password=__pass, \n",
    "                   host=chdNode,\n",
    "                   verbosity=1)\n",
    "        _ssh.setup() \n",
    "        \n",
    "        remdir = '/home/{}/python35-libs'.format(__username)\n",
    "        stdin,stdout,stderr=_ssh.ssh.exec_command('cd /home/{username}; chmod -R 777 {cdir}'.format(cdir=remdir,\n",
    "                                                                                                    username=__username))\n",
    "        outlines=stderr.readlines()\n",
    "        \n",
    "        remdir = '/home/{}/python35-libs/*'.format(__username)\n",
    "        stdin,stdout,stderr=_ssh.ssh.exec_command('cd /home/{username}; chmod -R 777 {cdir}'.format(cdir=remdir,\n",
    "                                                                                                    username=__username))\n",
    "        outlines=stderr.readlines()\n",
    "        \n",
    "        print('working with: {} has been completed'.format(chdNode))      \n",
    "\n",
    "    except:\n",
    "        print('got some unprocessed steps...')\n",
    "        pass        "
   ]
  },
  {
   "cell_type": "markdown",
   "metadata": {},
   "source": [
    "## Broadcst Xgboost v0.82"
   ]
  },
  {
   "cell_type": "code",
   "execution_count": null,
   "metadata": {
    "scrolled": false
   },
   "outputs": [],
   "source": [
    "for chdNode in tqdm_notebook(chdNodesList):\n",
    "    print(chdNode)\n",
    "    logger.error('working with: {}'.format(chdNode))\n",
    "    _ssh = Ssh(username=__username, \n",
    "               password=__pass, \n",
    "               host=chdNode,\n",
    "               verbosity=1)\n",
    "    _ssh.setup()        \n",
    "\n",
    "    # working with archive copyfiles.zip: copy to remote host with the following unzipping\n",
    "    libzip  = 'xgboost.zip'\n",
    "    remotepath = Path('/home/{}/python35-libs/lib/python3.5/site-packages'.format(__username)).as_posix()\n",
    "    localpath  = Path('/opt/workspace/{}/notebooks/sshbot/'.format(__username)).as_posix() #Path(os.getcwd()).as_posix()\n",
    "    remdir = ''\n",
    "    __dir = Path('./').as_posix()\n",
    "    _ssh.putFiles(localpath, remotepath, libzip, destFolderName=remdir)\n",
    "    stdin,stdout,stderr=_ssh.ssh.exec_command('cd /home/{username}/python35-libs/lib/python3.5/site-packages; unzip -o {czip} -d {cpath}; rm -f {czip}'.format(czip=libzip,\n",
    "                                                                                                                                       cpath=__dir,\n",
    "                                                                                                                                       username=__username))\n",
    "    outlines=stderr.readlines() \n",
    "    resp=''.join(outlines)\n",
    "    print(resp)"
   ]
  },
  {
   "cell_type": "markdown",
   "metadata": {},
   "source": [
    "## Broadcast PySPark2.2"
   ]
  },
  {
   "cell_type": "code",
   "execution_count": null,
   "metadata": {
    "collapsed": true,
    "scrolled": true
   },
   "outputs": [],
   "source": [
    "for chdNode in tqdm_notebook(chdNodesList):\n",
    "    print(chdNode)\n",
    "    logger.error('working with: {}'.format(chdNode))\n",
    "    _ssh = Ssh(username=__username, \n",
    "               password=__pass, \n",
    "               host=chdNode,\n",
    "               verbosity=1)\n",
    "    _ssh.setup()        \n",
    "\n",
    "    remdir = 'cloudera/parcels/'\n",
    "    stdin,stdout,stderr=_ssh.ssh.exec_command('cd /opt/workspace/; mkdir -p {cdir}'.format(cdir=remdir))\n",
    "    outlines=stderr.readlines()     \n",
    "\n",
    "    # working with archive copyfiles.zip: copy to remote host with the following unzipping\n",
    "    libzip  = 'pyspark.zip'\n",
    "    remotepath = Path('/opt/workspace/cloudera/parcels/').as_posix()\n",
    "    localpath  = Path('/opt/workspace/{}/libs/cloudera/parcels/'.format(__username)).as_posix() #Path(os.getcwd()).as_posix()\n",
    "    remdir = ''\n",
    "    __dir = Path('./').as_posix()\n",
    "    _ssh.putFiles(localpath, remotepath, libzip, destFolderName=remdir)\n",
    "    stdin,stdout,stderr=_ssh.ssh.exec_command('cd /opt/workspace/cloudera/parcels/; unzip -o {czip} -d {cpath}; rm -f {czip}'.format(czip=libzip,\n",
    "                                                                                                                                       cpath=__dir,\n",
    "                                                                                                                                       username=__username))\n",
    "    outlines=stderr.readlines() \n",
    "    resp=''.join(outlines)\n",
    "    print(resp)"
   ]
  },
  {
   "cell_type": "code",
   "execution_count": null,
   "metadata": {
    "collapsed": true,
    "scrolled": true
   },
   "outputs": [],
   "source": [
    "for chdNode in tqdm_notebook(chdNodesList):\n",
    "    print(chdNode)\n",
    "    logger.error('working with: {}'.format(chdNode))\n",
    "    _ssh = Ssh(username=__username, \n",
    "               password=__pass, \n",
    "               host=chdNode,\n",
    "               verbosity=1)\n",
    "    _ssh.setup()  \n",
    "    \n",
    "    libzip  = '.bash_profile'\n",
    "    remotepath = Path('./').as_posix()\n",
    "    localpath  = Path(os.getcwd()).as_posix()\n",
    "    remdir = ''\n",
    "    __dir = Path('./').as_posix()\n",
    "    _ssh.putFiles(localpath, remotepath, libzip, destFolderName=remdir)\n",
    "\n",
    "    # source .bash_profile\n",
    "    bash_profile  = '.bash_profile'\n",
    "    stdin,stdout,stderr=_ssh.ssh.exec_command('cd /home/{username}; source {bash_profile}'.format(bash_profile=bash_profile,\n",
    "                                                                                                  username=__username))\n",
    "    outlines=stdout.readlines() \n",
    "\n",
    "    runstr = 'cd /home/{username}; source .bash_profile; pip35 install pyspark==2.3.2 -t /opt/workspace/libs/'\n",
    "    stdin,stdout,stderr=_ssh.ssh.exec_command(runstr)\n",
    "    outlines=stderr.readlines()  \n",
    "    resp=''.join(outlines)\n",
    "    print(resp)    "
   ]
  },
  {
   "cell_type": "markdown",
   "metadata": {},
   "source": [
    "### Broadcast pypackages and configs"
   ]
  },
  {
   "cell_type": "code",
   "execution_count": 7,
   "metadata": {
    "collapsed": true
   },
   "outputs": [],
   "source": [
    "# if we wanna install packages from requirements file\n",
    "installFromRequir = True\n",
    "# switch between python35 or python36 dirs\n",
    "ispython35 = True"
   ]
  },
  {
   "cell_type": "code",
   "execution_count": null,
   "metadata": {
    "scrolled": false
   },
   "outputs": [],
   "source": [
    "for chdNode in tqdm(chdNodesList):\n",
    "    print(chdNode)\n",
    "    try:\n",
    "        logger.error('working with: {}'.format(chdNode))\n",
    "        _ssh = Ssh(username=__username, \n",
    "                   password=__pass, \n",
    "                   host=chdNode,\n",
    "                   verbosity=1)\n",
    "        _ssh.setup()      \n",
    "        \n",
    "        # working with archive copyfiles.zip: copy to remote host with the following unzipping\n",
    "        libzip  = 'copyfiles.zip'\n",
    "        remotepath = Path('./').as_posix()\n",
    "        localpath  = Path(os.getcwd()).as_posix()\n",
    "        remdir = ''\n",
    "        __dir = Path('./').as_posix()\n",
    "        _ssh.putFiles(localpath, remotepath, libzip, destFolderName=remdir)\n",
    "        stdin,stdout,stderr=_ssh.ssh.exec_command('cd /home/{username}; unzip -o {czip} -d {cpath}'.format(czip=libzip,\n",
    "                                                                                                           cpath=__dir,\n",
    "                                                                                                           username=__username))\n",
    "        outlines=stderr.readlines()            \n",
    "        \n",
    "        # source .bash_profile\n",
    "        bash_profile  = '.bash_profile'\n",
    "        stdin,stdout,stderr=_ssh.ssh.exec_command('cd /home/{username}; source {bash_profile}'.format(bash_profile=bash_profile,\n",
    "                                                                                                      username=__username))\n",
    "        outlines=stdout.readlines()  \n",
    "        \n",
    "        # run bootstrap to crerate soft links to python and pip according to predefined PARCEL's id\n",
    "        bootstrap  = 'bootstrap_py35_36.sh'\n",
    "        stdin,stdout,stderr=_ssh.ssh.exec_command('cd /home/{username}; chmod u+x ./{bootstrap}; \\\n",
    "                                                   ./{bootstrap}'.format(bootstrap=bootstrap,\n",
    "                                                                         username=__username))\n",
    "        outlines=stdout.readlines()  \n",
    "\n",
    "\n",
    "        # create additional dirs\n",
    "#         remdir = '/opt/workspace/{}/notebooks'.format(__username)\n",
    "#         stdin,stdout,stderr=_ssh.ssh.exec_command('cd /home/{username}; mkdir -p {cdir}'.format(cdir=remdir,\n",
    "#                                                                                                 username=__username))\n",
    "#         outlines=stderr.readlines()\n",
    "\n",
    "        remdir = '/home/{}/python35-libs/lib/python3.5/site-packages'.format(__username)\n",
    "        stdin,stdout,stderr=_ssh.ssh.exec_command('cd /home/{username}; mkdir -p {cdir}'.format(cdir=remdir,\n",
    "                                                                                                username=__username))\n",
    "        outlines=stderr.readlines()        \n",
    "\n",
    "        remdir = '/home/{}/python35-libs/lib/python3.6/site-packages'.format(__username)\n",
    "        stdin,stdout,stderr=_ssh.ssh.exec_command('cd /home/{username}; mkdir -p {cdir}'.format(cdir=remdir,\n",
    "                                                                                                username=__username))\n",
    "        outlines=stderr.readlines()             \n",
    "       \n",
    "        if installFromRequir:\n",
    "            if ispython35:\n",
    "                pythondir = '/home/{}/python35-libs/lib/python3.5/site-packages'.format(__username)\n",
    "            else:\n",
    "                pythondir = '/home/{}/python35-libs/lib/python3.6/site-packages'.format(__username)\n",
    "#             stdin,stdout,stderr=_ssh.ssh.exec_command('cd /home/{username}; source .bash_profile; pip35 install \\\n",
    "#                                                        --upgrade --force-reinstall pybind11 -t {__dir}'.format(__dir=pythondir,\n",
    "#                                                                                                                username=__username))\n",
    "#             outlines=stdout.readlines()  \n",
    "#             resp=''.join(outlines)\n",
    "#             sleep(1)\n",
    "            runstr = 'cd /home/{username}; source .bash_profile; pip35 install --upgrade --force-reinstall \\\n",
    "                                                       -r /home/{username}/pip/requirements.txt -t {cdir}'.format(cdir=pythondir,\n",
    "                                                                                                                  username=__username)\n",
    "            stdin,stdout,stderr=_ssh.ssh.exec_command(runstr)\n",
    "            outlines=stderr.readlines()  \n",
    "            resp=''.join(outlines)\n",
    "            print(resp)\n",
    "\n",
    "        print('working with: {} has been completed'.format(chdNode))      \n",
    "\n",
    "    except:\n",
    "        print('got some unprocessed steps...')\n",
    "        pass"
   ]
  },
  {
   "cell_type": "code",
   "execution_count": null,
   "metadata": {
    "collapsed": true
   },
   "outputs": [],
   "source": []
  },
  {
   "cell_type": "markdown",
   "metadata": {},
   "source": [
    "## Check that all installed packages can be imported properly by spark executors"
   ]
  },
  {
   "cell_type": "code",
   "execution_count": null,
   "metadata": {
    "collapsed": true
   },
   "outputs": [],
   "source": [
    "import os\n",
    "import shlex\n",
    "import subprocess\n",
    "\n",
    "def install_package(x):\n",
    "    import os\n",
    "    import sys\n",
    "    sys.path.insert(0, '/home/ektov-av/python35-libs/lib/python3.5/site-packages/')\n",
    "    import nltk\n",
    "    #import fasttext\n",
    "    #from rnnmorph.predictor import RNNMorphPredictor\n",
    "    from pymystem3 import Mystem\n",
    "    from pymorphy2.analyzer import MorphAnalyzer\n",
    "    from gensim.models.fasttext import FastText as FT_gensim\n",
    "    from gensim.test.utils import datapath\n",
    "    from gensim.utils import tokenize\n",
    "    from fuzzywuzzy import fuzz\n",
    "    import smart_open \n",
    "        \n",
    "    mstem = Mystem(mystem_bin='/home/ektov-av/python35-libs/bin/mystem')\n",
    "    res = ''.join(mstem.lemmatize('Ирина Игоревна и Иван и Тинькофф шли по дороге с фруктами'))[:-1]\n",
    "    \n",
    "    fz = fuzz.ratio(\"это пример текста\",\"а это пример другой строки\")\n",
    "    \n",
    "    return res+': '+str(fz)\n",
    "       \n",
    "# def install_package(x):\n",
    "#     out = subprocess.check_call('/opt/cloudera/parcels/PYENV.GPUAI-3.6.pyenv.p0.1/bin/pip3 install yargy ' \\\n",
    "#         '--user --index-url=http://mirror.ca.sbrf.ru/pypi/simple/ '\\\n",
    "#         '--extra-index-url=http://mirror.ca.sbrf.ru/pypi_old/simple '\\\n",
    "#         '--trusted-host=mirror.ca.sbrf.ru', shell=True, stderr=subprocess.PIPE)\n",
    "#     return out\n",
    "\n",
    "rdd = sp.sc.parallelize(list(range(sp.sc._jsc.sc().getExecutorMemoryStatus().size())))\n",
    "output = rdd.map(install_package).collect()\n",
    "output"
   ]
  },
  {
   "cell_type": "code",
   "execution_count": null,
   "metadata": {
    "collapsed": true
   },
   "outputs": [],
   "source": []
  },
  {
   "cell_type": "code",
   "execution_count": null,
   "metadata": {
    "collapsed": true
   },
   "outputs": [],
   "source": []
  },
  {
   "cell_type": "markdown",
   "metadata": {},
   "source": [
    "### Broadcast Jupyter"
   ]
  },
  {
   "cell_type": "code",
   "execution_count": null,
   "metadata": {
    "collapsed": true,
    "scrolled": true
   },
   "outputs": [],
   "source": [
    "for chdNode in chdNodesList:\n",
    "    print(chdNode)\n",
    "    logger.error('working with: {}'.format(chdNode))\n",
    "\n",
    "    _ssh = Ssh(username=__username, \n",
    "               password=__pass, \n",
    "               host=chdNode,\n",
    "               verbosity=0)\n",
    "    _ssh.setup()  \n",
    "\n",
    "    bash_profile  = '.bash_profile'    \n",
    "    jupyterpath = '/opt/cloudera/parcels/PYENV.ZNO0059623792-3.5.pyenv.p0.2/bin/jupyter'\n",
    "\n",
    "    #kill all running jupyter's instances\n",
    "    #\n",
    "#   errstr ='''pkill: no matching criteria specified\\nTry `pkill --help' for more information.\\n'''\n",
    "    killjupyter = '''ps -u %s | grep jupyter | awk '{print $1}' | xargs echo kill -9 | bash''' % __username\n",
    "    stdin,stdout,stderr=_ssh.ssh.exec_command('''cd /home/{username}; source {bash_profile}; {kill}'''.format(username=__username,\n",
    "                                                                                                              bash_profile=bash_profile,\n",
    "                                                                                                               kill = killjupyter\n",
    "                                                                                                             ))\n",
    "    outlines=stderr.readlines()  \n",
    "    resp=''.join(outlines)\n",
    "#         if resp == errstr:\n",
    "#             print('Nothing to kill by user criteria')    \n",
    "\n",
    "    stdin,stdout,stderr=_ssh.ssh.exec_command('''cd /home/{username}; source {bash_profile}; jupyter'''.format(username=__username,\n",
    "                                                                                                      bash_profile=bash_profile\n",
    "                                                                                                     ))\n",
    "    outlines=stderr.readlines()  \n",
    "    resp=''.join(outlines) \n",
    "   \n",
    "    if 'No such file or directory' in resp:\n",
    "        print(resp)\n",
    "        print('trying to generate config file...')\n",
    "        stdin,stdout,stderr=_ssh.ssh.exec_command('''cd /home/{username}; source {bash_profile}; {jupyterpath} notebook --generate-config'''.format(\n",
    "                                                                                                          username=__username,\n",
    "                                                                                                          bash_profile=bash_profile, \n",
    "                                                                                                          jupyterpath = jupyterpath\n",
    "                                                                                                         ))\n",
    "        all_data = '' \n",
    "        while not stdout.channel.exit_status_ready():\n",
    "            solo_line = ''\n",
    "            if stdout.channel.recv_ready():\n",
    "                solo_line = stdout.channel.recv(1024)\n",
    "            if 'Overwrite' in str(solo_line):\n",
    "                stdin.channel.send('y\\n')\n",
    "                stdin.flush()\n",
    "\n",
    "        outlines=stdout.readlines()  \n",
    "        resp=''.join(outlines)\n",
    "        \n",
    "        # set pass phrase\n",
    "        print('trying to set pass phrase for jupyter...')\n",
    "        stdin,stdout,stderr=_ssh.ssh.exec_command('''cd /home/{username}; source {bash_profile}; {jupyterpath} notebook password'''.format(\n",
    "                                                                                                 username=__username,\n",
    "                                                                                                 bash_profile=bash_profile,\n",
    "                                                                                                 jupyterpath = jupyterpath \n",
    "                                                                                                 ))\n",
    "        stdin.write('{}\\n'.format(jupyterPass))\n",
    "        stdin.flush()\n",
    "        stdin.write('{}\\n'.format(jupyterPass))\n",
    "        stdin.flush()\n",
    "        out = stdout.read()\n",
    "        print(resp)\n",
    "\n",
    "        sleep(1)        \n",
    "\n",
    "        # start jupyter server:\n",
    "        jupyter_run = '''nohup {jupyterpath} notebook --notebook-dir=/opt/workspace/ --ip 0.0.0.0 --port {port} &'''.format(jupyterpath = jupyterpath, port = jupyterPort)\n",
    "        print(jupyter_run)\n",
    "        stdin,stdout,stderr=_ssh.ssh.exec_command('''cd /home/{username}; source {bash_profile}; {startjupyter}'''.format(username=__username,\n",
    "                                                                                                                          bash_profile=bash_profile,\n",
    "                                                                                                                          startjupyter = jupyter_run\n",
    "                                                                                                                         ))                 \n",
    "        all_data = '' \n",
    "        while not stdout.channel.exit_status_ready():\n",
    "            solo_line = ''\n",
    "            if stdout.channel.recv_ready():\n",
    "                solo_line = stdout.channel.recv(1024)\n",
    "            all_data+=solo_line\n",
    "\n",
    "        print(all_data)\n",
    "        _ssh.ssh.close()\n",
    "        sleep(1)        \n",
    "    else:\n",
    "        # set pass phrase for normal scenario\n",
    "        print('jupyter location is found by its alias...')\n",
    "        \n",
    "        # generate configs \n",
    "        stdin,stdout,stderr=_ssh.ssh.exec_command('''cd /home/{username}; source {bash_profile}; jupyter notebook --generate-config'''.format(username=__username,\n",
    "                                                                                                          bash_profile=bash_profile\n",
    "                                                                                                         ))\n",
    "        all_data = '' \n",
    "        while not stdout.channel.exit_status_ready():\n",
    "            solo_line = ''\n",
    "            if stdout.channel.recv_ready():\n",
    "                solo_line = stdout.channel.recv(1024)\n",
    "            if 'Overwrite' in str(solo_line):\n",
    "                stdin.channel.send('y\\n')\n",
    "                stdin.flush()\n",
    "\n",
    "        outlines=stdout.readlines()  \n",
    "        resp=''.join(outlines)        \n",
    "        \n",
    "        print('trying to set pass phrase for jupyter...')\n",
    "        stdin,stdout,stderr=_ssh.ssh.exec_command('''cd /home/{username}; source {bash_profile} jupyter notebook password'''.format(\n",
    "                                                                                                 username=__username,\n",
    "                                                                                                 bash_profile=bash_profile\n",
    "                                                                                                 ))\n",
    "        stdin.write('{}\\n'.format(jupyterPass))\n",
    "        stdin.flush()\n",
    "        stdin.write('{}\\n'.format(jupyterPass))\n",
    "        stdin.flush()\n",
    "        out = stdout.read()\n",
    "\n",
    "        sleep(1)        \n",
    "        \n",
    "        # start jupyter server:\n",
    "        jupyter_run = '''nohup jupyter notebook --notebook-dir=/opt/workspace/ --ip 0.0.0.0 --port {port} &'''.format( port = jupyterPort)\n",
    "        stdin,stdout,stderr=_ssh.ssh.exec_command('''cd /home/{username}; source {bash_profile}; {startjupyter}'''.format(username=__username,\n",
    "                                                                                                                          bash_profile=bash_profile,\n",
    "                                                                                                                          startjupyter = jupyter_run\n",
    "                                                                                                                         ))\n",
    "\n",
    "        all_data = '' \n",
    "        while not stdout.channel.exit_status_ready():\n",
    "            solo_line = ''\n",
    "            if stdout.channel.recv_ready():\n",
    "                solo_line = stdout.channel.recv(1024)\n",
    "            all_data+=solo_line\n",
    "\n",
    "        print(all_data)\n",
    "        _ssh.ssh.close()\n",
    "        sleep(1)"
   ]
  },
  {
   "cell_type": "markdown",
   "metadata": {},
   "source": [
    "## KIllall jupyter instances over all nodes"
   ]
  },
  {
   "cell_type": "code",
   "execution_count": null,
   "metadata": {
    "collapsed": true,
    "scrolled": true
   },
   "outputs": [],
   "source": [
    "for chdNode in chdNodesList:\n",
    "    print(chdNode)\n",
    "    logger.error('working with: {}'.format(chdNode))\n",
    "\n",
    "    _ssh = Ssh(username=__username, \n",
    "               password=__pass, \n",
    "               host=chdNode,\n",
    "               verbosity=0)\n",
    "    _ssh.setup()  \n",
    "\n",
    "    bash_profile  = '.bash_profile'    \n",
    "    jupyterpath = '/opt/cloudera/parcels/PYENV.ZNO0059623792-3.5.pyenv.p0.2/bin/jupyter'\n",
    "    try:\n",
    "        errstr ='''pkill: no matching criteria specified\\nTry `pkill --help' for more information.\\n'''\n",
    "        #kill of running jupyter's instances\n",
    "        killjupyter = '''ps -u %s | grep jupyter | awk '{print $1}' | xargs echo kill -9 | bash''' % __username\n",
    "        stdin,stdout,stderr=_ssh.ssh.exec_command('''cd /home/{username}; source {bash_profile}; {kill}'''.format(username=__username,\n",
    "                                                                                                                  bash_profile=bash_profile,\n",
    "                                                                                                                   kill = killjupyter\n",
    "                                                                                                                 ))\n",
    "        outlines=stderr.readlines()  \n",
    "        resp=''.join(outlines)\n",
    "        if resp == errstr:\n",
    "            print('Nothing to kill by user criteria')\n",
    "    except:\n",
    "        pass"
   ]
  },
  {
   "cell_type": "code",
   "execution_count": null,
   "metadata": {
    "collapsed": true
   },
   "outputs": [],
   "source": []
  }
 ],
 "metadata": {
  "kernelspec": {
   "display_name": "Python 3",
   "language": "python",
   "name": "python3"
  },
  "language_info": {
   "codemirror_mode": {
    "name": "ipython",
    "version": 3
   },
   "file_extension": ".py",
   "mimetype": "text/x-python",
   "name": "python",
   "nbconvert_exporter": "python",
   "pygments_lexer": "ipython3",
   "version": "3.7.4"
  }
 },
 "nbformat": 4,
 "nbformat_minor": 2
}
